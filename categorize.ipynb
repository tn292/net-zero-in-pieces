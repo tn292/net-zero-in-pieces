{
 "cells": [
  {
   "cell_type": "code",
   "execution_count": 9,
   "metadata": {},
   "outputs": [],
   "source": [
    "import spacy\n",
    "from sklearn.feature_extraction.text import TfidfVectorizer\n",
    "from sklearn.metrics.pairwise import cosine_similarity"
   ]
  },
  {
   "cell_type": "code",
   "execution_count": 2,
   "metadata": {},
   "outputs": [],
   "source": [
    "# pre-trained NLP model with word embeddings\n",
    "nlp = spacy.load(\"en_core_web_md\")"
   ]
  },
  {
   "cell_type": "code",
   "execution_count": 3,
   "metadata": {},
   "outputs": [],
   "source": [
    "categories = {\n",
    "    \"Transportation\": \"items related to the movement of people or goods, including vehicles, fuels, and public transport\",\n",
    "    \"Plastics\": \"materials or items made of synthetic polymers, such as plastic bottles, bags, and containers\",\n",
    "    \"Energy Consumption\": \"items or activities related to the usage of energy, such as gas, electricity, or fossil fuels\",\n",
    "    \"Food production\": \"items related to growing, harvesting, or producing food, including agriculture, farming, and food processing\",\n",
    "    \"Water usage\": \"items or activities related to the consumption or conservation of water, such as irrigation, plumbing, or water bills\",\n",
    "    \"Housing and Construction\": \"items related to buildings, homes, or construction materials, including apartments, cement, and insulation\",\n",
    "    \"Clothing and Textiles\": \"items related to garments, fabrics, or textile production, such as shirts, jeans, and sewing materials\",\n",
    "    \"Travel and Tourism\": \"items or activities related to leisure travel, including plane tickets, hotels, and tourist attractions\",\n",
    "    \"Personal care and Hygiene\": \"items used for personal grooming or hygiene, such as soap, shampoo, and cosmetics\",\n",
    "    \"Packaging and Shipping\": \"items related to packaging materials or the shipping of goods, such as boxes, packaging tape, and crates\", \n",
    "    \"Technology\": \"items related to technology, such as tv, and phone, or technology services, such as chatgpt\"\n",
    "}"
   ]
  },
  {
   "cell_type": "code",
   "execution_count": 12,
   "metadata": {},
   "outputs": [],
   "source": [
    "category_descriptions = list(categories.values())\n",
    "category_names = list(categories.keys())\n",
    "\n",
    "# Define a function to categorize items using TF-IDF and cosine similarity\n",
    "def categorize_item_tfidf(item, categories):\n",
    "\n",
    "    category_descriptions = list(categories.values())\n",
    "    category_names = list(categories.keys())\n",
    "    # Create the TF-IDF vectorizer\n",
    "    vectorizer = TfidfVectorizer()\n",
    "\n",
    "    # Combine the item and the category descriptions for vectorization\n",
    "    all_texts = [item] + category_descriptions\n",
    "\n",
    "    # Vectorize the item and category descriptions\n",
    "    tfidf_matrix = vectorizer.fit_transform(all_texts)\n",
    "\n",
    "    # Compute the cosine similarity between the item vector and category vectors\n",
    "    cosine_similarities = cosine_similarity(tfidf_matrix[0:1], tfidf_matrix[1:])\n",
    "\n",
    "    # Find the category with the highest similarity score\n",
    "    highest_similarity_index = cosine_similarities.argmax()\n",
    "    best_category = category_names[highest_similarity_index]\n",
    "\n",
    "    return best_category"
   ]
  },
  {
   "cell_type": "code",
   "execution_count": 4,
   "metadata": {},
   "outputs": [],
   "source": [
    "def categorize_item(item, categories):\n",
    "    item_doc = nlp(item.lower())\n",
    "    best_match = None\n",
    "    best_score = -1\n",
    "    for category, description in categories.items():\n",
    "        category_doc = nlp(description)\n",
    "        similarity = item_doc.similarity(category_doc)\n",
    "        if similarity > best_score:\n",
    "            best_score = similarity\n",
    "            best_match = category\n",
    "    return best_match\n"
   ]
  },
  {
   "cell_type": "code",
   "execution_count": 14,
   "metadata": {},
   "outputs": [],
   "source": [
    "def categorize_item(item, categories):\n",
    "    category_descriptions = list(categories.values())\n",
    "    category_names = list(categories.keys())\n",
    "    # Create the TF-IDF vectorizer\n",
    "    vectorizer = TfidfVectorizer()\n",
    "\n",
    "    # Combine the item and the category descriptions for vectorization\n",
    "    all_texts = [item] + category_descriptions\n",
    "\n",
    "    # Vectorize the item and category descriptions\n",
    "    tfidf_matrix = vectorizer.fit_transform(all_texts)\n",
    "\n",
    "    # Compute the cosine similarity between the item vector and category vectors\n",
    "    cosine_similarities = cosine_similarity(tfidf_matrix[0:1], tfidf_matrix[1:])\n",
    "\n",
    "    # Find the category with the highest similarity score\n",
    "    highest_similarity_index = cosine_similarities.argmax()\n",
    "    best_category = category_names[highest_similarity_index]\n",
    "\n",
    "    return best_category\n"
   ]
  },
  {
   "cell_type": "code",
   "execution_count": 13,
   "metadata": {},
   "outputs": [
    {
     "data": {
      "text/plain": [
       "'Technology'"
      ]
     },
     "execution_count": 13,
     "metadata": {},
     "output_type": "execute_result"
    }
   ],
   "source": [
    "categorize_item_tfidf(\"chatgpt\", categories)"
   ]
  },
  {
   "cell_type": "code",
   "execution_count": 15,
   "metadata": {},
   "outputs": [
    {
     "name": "stdout",
     "output_type": "stream",
     "text": [
      "Item: gas -> Category: Energy Consumption\n",
      "Item: plastic bottle -> Category: Plastics\n",
      "Item: compost -> Category: Transportation\n",
      "Item: toxic chemicals -> Category: Transportation\n",
      "Item: chatgpt -> Category: Technology\n"
     ]
    }
   ],
   "source": [
    "# List of items to categorize\n",
    "items = [\"gas\", \"plastic bottle\", \"compost\", \"toxic chemicals\", \"chatgpt\"]\n",
    "\n",
    "# Categorize each item\n",
    "categorized_items = [(item, categorize_item(item, categories)) for item in items]\n",
    "\n",
    "for item, category in categorized_items:\n",
    "    print(f\"Item: {item} -> Category: {category}\")\n"
   ]
  }
 ],
 "metadata": {
  "kernelspec": {
   "display_name": "Python 3.12.2 ('venv': venv)",
   "language": "python",
   "name": "python3"
  },
  "language_info": {
   "codemirror_mode": {
    "name": "ipython",
    "version": 3
   },
   "file_extension": ".py",
   "mimetype": "text/x-python",
   "name": "python",
   "nbconvert_exporter": "python",
   "pygments_lexer": "ipython3",
   "version": "3.12.2"
  },
  "orig_nbformat": 4,
  "vscode": {
   "interpreter": {
    "hash": "806b89a456930231192c17e0237ee790489d7456861ad6c30486171ccd2893ba"
   }
  }
 },
 "nbformat": 4,
 "nbformat_minor": 2
}
